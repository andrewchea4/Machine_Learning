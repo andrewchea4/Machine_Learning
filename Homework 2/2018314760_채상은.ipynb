{
  "nbformat": 4,
  "nbformat_minor": 0,
  "metadata": {
    "colab": {
      "name": "Untitled29.ipynb",
      "provenance": []
    },
    "kernelspec": {
      "name": "python3",
      "display_name": "Python 3"
    },
    "language_info": {
      "name": "python"
    }
  },
  "cells": [
    {
      "cell_type": "code",
      "metadata": {
        "id": "vU_S89f_oD5N"
      },
      "source": [
        "import json\n",
        "import pandas as pd\n",
        "import numpy as np\n",
        "import random\n",
        "import matplotlib.pyplot as plt\n",
        "from collections import Counter\n",
        "from tqdm import tqdm"
      ],
      "execution_count": 77,
      "outputs": []
    },
    {
      "cell_type": "code",
      "metadata": {
        "id": "TAeBbo2gp2Xa"
      },
      "source": [
        "class MatrixFactorization():\n",
        "  def __init__(self, train_matrix, test_matrix, latent, epoch):\n",
        "    self.train_matrix = train_matrix\n",
        "    self.test_matrix = test_matrix\n",
        "    self.num_users, self.num_items = train_matrix.shape\n",
        "    self.latent = latent\n",
        "    self.epoch = epoch\n",
        "    \n",
        "  def prediction(self, user_index, item_index):\n",
        "    return self.bias + self.u_bias[user_index] + self.i_bias[item_index] + self.user_matrix[user_index, :].dot(self.item_matrix[item_index, :].T)\n",
        "\n",
        "  def cost(self, matrix):\n",
        "    xs, ys = matrix.nonzero()\n",
        "    predicted = self.bias + self.u_bias[:, np.newaxis] + self.i_bias[np.newaxis:, ] + self.user_matrix.dot(self.item_matrix.T)\n",
        "    error = 0\n",
        "\n",
        "    for x, y in zip(xs, ys):\n",
        "      error = error + pow(matrix[x][y] - predicted[x][y] , 2)\n",
        "    return np.sqrt(error) /len(xs)\n",
        "\n",
        "  def train(self):\n",
        "    self.user_matrix = np.random.normal(scale=1./self.latent, size = (self.num_users, self.latent))\n",
        "    self.item_matrix = np.random.normal(scale=1./self.latent, size = (self.num_items, self.latent))\n",
        "\n",
        "    self.u_bias = np.zeros(self.num_users)\n",
        "    self.i_bias = np.zeros(self.num_items)\n",
        "    self.bias = np.mean(self.train_matrix[np.where(self.train_matrix != 0)])\n",
        "\n",
        "    self.training_process = []\n",
        "    for epoch_ in range(self.epoch):\n",
        "      for i in range(self.num_users):\n",
        "        for j in range(self.num_items):\n",
        "          if self.train_matrix[i][j] > 0:\n",
        "            prediction = self.prediction(i, j)\n",
        "            err = self.train_matrix[i][j] - prediction\n",
        "\n",
        "            self.u_bias[i] = self.u_bias[i] + 0.01*(err - 0.01 * self.u_bias[i])\n",
        "            self.i_bias[j] = self.i_bias[j] + 0.01*(err - 0.01 * self.i_bias[j])\n",
        "\n",
        "            latent_user = (err * self.item_matrix[j, :]) - (0.01 * self.user_matrix[i, :])\n",
        "            latent_item = (err * self.user_matrix[i, :]) - (0.01 * self.item_matrix[j, :])\n",
        "\n",
        "            self.user_matrix[i, :] = self.user_matrix[i, :] + 0.01 * latent_user\n",
        "            self.item_matrix[j, :] = self.item_matrix[j, :] + 0.01 * latent_item\n",
        "      \n",
        "      cost = self.cost(self.train_matrix)\n",
        "      self.training_process.append(cost)\n",
        "      #print(\"Epoch : %d ; cost = %.4f\" %(epoch_ + 1, cost))\n",
        "    return self.training_process\n",
        "  \n",
        "  def test(self):\n",
        "    for i in range(self.num_users):\n",
        "      for j in range(self.num_items):\n",
        "        if self.test_matrix[i][j] > 0:\n",
        "          cost = self.cost(self.test_matrix)\n",
        "    print(\"Test Result: error = %.4f\" % (cost))\n",
        "    return cost\n",
        "\n",
        "\n"
      ],
      "execution_count": 83,
      "outputs": []
    },
    {
      "cell_type": "code",
      "metadata": {
        "colab": {
          "base_uri": "https://localhost:8080/"
        },
        "id": "TU5IacH2oxr_",
        "outputId": "66bd12fe-36a9-4818-a335-18ca587c09d6"
      },
      "source": [
        "json_data = []\n",
        "with open(\"./yelp_academic_dataset_review.json\", 'r', encoding='utf-8-sig') as f:\n",
        "  for i, line in tqdm(enumerate(f)):\n",
        "    json_data.append(json.loads(line))"
      ],
      "execution_count": 84,
      "outputs": [
        {
          "output_type": "stream",
          "name": "stderr",
          "text": [
            "1125458it [00:29, 37720.08it/s]\n"
          ]
        }
      ]
    },
    {
      "cell_type": "code",
      "metadata": {
        "id": "Hp_fIIa64E-M"
      },
      "source": [
        "df = pd.DataFrame(json_data).loc[:, ['user_id', 'business_id', 'stars']]\n",
        "\n",
        "user_id = df['user_id'].tolist()\n",
        "user_id_100 = list()\n",
        "temp_user = Counter(user_id).most_common(100)\n",
        "for key in temp_user:\n",
        "  user_id_100.append(key[0])\n",
        "\n",
        "\n",
        "business_id = df['business_id'].tolist()\n",
        "business_id_50 = list()\n",
        "temp_business = Counter(business_id).most_common(50)\n",
        "for key in temp_business:\n",
        "  business_id_50.append(key[0])\n",
        "\n",
        "\n",
        "\n",
        "\n",
        "\n"
      ],
      "execution_count": 85,
      "outputs": []
    },
    {
      "cell_type": "code",
      "metadata": {
        "colab": {
          "base_uri": "https://localhost:8080/"
        },
        "id": "vxvaA9ip5EPd",
        "outputId": "60e4d144-ca39-460b-bcde-d8fd17793955"
      },
      "source": [
        "interac_matrix = np.zeros((100,50))\n",
        "\n",
        "for x, a in tqdm(enumerate(user_id_100)):\n",
        "  temp = df['user_id'] == a\n",
        "  for y, b in enumerate(business_id_50):\n",
        "    temp_ = df['business_id'] == b\n",
        "    data = df[temp & temp_]\n",
        "    if len(data) > 0:\n",
        "      data = data.iloc[[0], [2]].values[0]\n",
        "      interac_matrix[x][y] = data"
      ],
      "execution_count": 86,
      "outputs": [
        {
          "output_type": "stream",
          "name": "stderr",
          "text": [
            "100it [12:43,  7.63s/it]\n"
          ]
        }
      ]
    },
    {
      "cell_type": "code",
      "metadata": {
        "id": "3wYnLBKm8Rnj"
      },
      "source": [
        "index = 0\n",
        "for i in range(100):\n",
        "  count = 0\n",
        "  for j in range(50):\n",
        "    count = count + interac_matrix[i][j]\n",
        "  if count == 0:\n",
        "    index = index + 1\n"
      ],
      "execution_count": 87,
      "outputs": []
    },
    {
      "cell_type": "code",
      "metadata": {
        "id": "Z90igpk1Fp69"
      },
      "source": [
        "non_zero = np.count_nonzero(interac_matrix != 0)\n",
        "\n",
        "test_count = int(non_zero * 0.2)\n",
        "train_count = int(non_zero - test_count)\n"
      ],
      "execution_count": 88,
      "outputs": []
    },
    {
      "cell_type": "code",
      "metadata": {
        "colab": {
          "base_uri": "https://localhost:8080/"
        },
        "id": "OaGKtMQSflUA",
        "outputId": "896199ce-f339-4e03-b9cf-b7f75292421f"
      },
      "source": [
        "print(non_zero)\n",
        "print(test_count)\n",
        "print(train_count)"
      ],
      "execution_count": 89,
      "outputs": [
        {
          "output_type": "stream",
          "name": "stdout",
          "text": [
            "789\n",
            "157\n",
            "632\n"
          ]
        }
      ]
    },
    {
      "cell_type": "code",
      "metadata": {
        "id": "7TnjiD0TLQot"
      },
      "source": [
        "count_ = 0\n",
        "test_matrix = np.zeros((100, 50))\n",
        "\n",
        "while(test_count > count_):\n",
        "  random_x = random.randint(0, 99)\n",
        "  random_y = random.randint(0, 49)\n",
        "\n",
        "  if interac_matrix[random_x][random_y] != 0:\n",
        "    if (interac_matrix.sum(axis = 0)[random_y] == interac_matrix[random_x][random_y] or interac_matrix.sum(axis= 1)[random_x] == interac_matrix[random_x][random_y]):\n",
        "      continue\n",
        "    else:\n",
        "      temp = interac_matrix[random_x][random_y]\n",
        "      interac_matrix[random_x][random_y] = 0\n",
        "      test_matrix[random_x][random_y] = temp\n",
        "      count_ = count_ + 1\n",
        "        "
      ],
      "execution_count": 90,
      "outputs": []
    },
    {
      "cell_type": "code",
      "metadata": {
        "id": "Xj4EJOGLYhdn"
      },
      "source": [
        "count_ = 0\n",
        "for i in range(len(interac_matrix)):\n",
        "  for j in range(len(interac_matrix[i])):\n",
        "    if interac_matrix[i][j] != 0:\n",
        "      count_+=1\n",
        "\n",
        "count__ = 0\n",
        "for i in range(len(test_matrix)):\n",
        "  for j in range(len(test_matrix[i])):\n",
        "    if test_matrix[i][j] != 0:\n",
        "      count__+=1\n"
      ],
      "execution_count": 91,
      "outputs": []
    },
    {
      "cell_type": "code",
      "metadata": {
        "colab": {
          "base_uri": "https://localhost:8080/",
          "height": 333
        },
        "id": "VHvMyL6ilHwz",
        "outputId": "a29d99db-6986-42dc-a180-8f833ebc93be"
      },
      "source": [
        "f1 = MatrixFactorization(interac_matrix, test_matrix, 5, 500)\n",
        "f1_train = f1.train()\n",
        "plt.plot(f1_train)\n",
        "f1_test = f1.test()\n",
        "\n",
        "f2 = MatrixFactorization(interac_matrix, test_matrix, 10, 500)\n",
        "f2_train = f2.train()\n",
        "plt.plot(f2_train)\n",
        "f2_test = f2.test()\n",
        "\n",
        "f3 = MatrixFactorization(interac_matrix, test_matrix, 15, 500)\n",
        "f3_train = f3.train()\n",
        "plt.plot(f3_train)\n",
        "f3_test = f3.test()\n",
        "\n",
        "f4 = MatrixFactorization(interac_matrix, test_matrix, 20, 500)\n",
        "f4_train = f4.train()\n",
        "plt.plot(f4_train)\n",
        "f4_test = f4.test()\n",
        "\n",
        "plt.legend(['Rank 5', 'Rank 10', 'Rank 15', 'Rank 20'], loc = 1)\n",
        "plt.savefig('train_result.jpg')\n",
        "\n"
      ],
      "execution_count": 92,
      "outputs": [
        {
          "output_type": "stream",
          "name": "stdout",
          "text": [
            "Test Result: error = 0.1044\n",
            "Test Result: error = 0.0771\n",
            "Test Result: error = 0.0763\n",
            "Test Result: error = 0.0730\n"
          ]
        },
        {
          "output_type": "display_data",
          "data": {
            "image/png": "[encoded data removed]",
            "text/plain": [
              "<Figure size 432x288 with 1 Axes>"
            ]
          },
          "metadata": {
            "needs_background": "light"
          }
        }
      ]
    },
    {
      "cell_type": "code",
      "metadata": {
        "colab": {
          "base_uri": "https://localhost:8080/",
          "height": 312
        },
        "id": "hB5HSaCVpPDK",
        "outputId": "65c4a269-5f0d-41fc-c7f8-14890669e855"
      },
      "source": [
        "plt.plot(['Rank 5', 'Rank 10', 'Rank 15', 'Rank 20'], [f1_test, f2_test, f3_test, f4_test])\n",
        "plt.xlabel('Rank')\n",
        "plt.ylabel('Error Cost')\n",
        "plt.ylim([0.05, 0.15])\n",
        "plt.title('Test Result')\n",
        "plt.show()\n",
        "plt.savefig('test_result.jpg')"
      ],
      "execution_count": 93,
      "outputs": [
        {
          "output_type": "display_data",
          "data": {
            "image/png": "[encoded data removed]",
            "text/plain": [
              "<Figure size 432x288 with 1 Axes>"
            ]
          },
          "metadata": {
            "needs_background": "light"
          }
        },
        {
          "output_type": "display_data",
          "data": {
            "text/plain": [
              "<Figure size 432x288 with 0 Axes>"
            ]
          },
          "metadata": {}
        }
      ]
    }
  ]
}